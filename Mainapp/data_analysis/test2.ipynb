{
 "cells": [
  {
   "cell_type": "code",
   "execution_count": 2,
   "metadata": {},
   "outputs": [],
   "source": [
    "import pandas as pd\n",
    "import numpy as np \n",
    "import pymongo\n",
    "from pymongo import MongoClient"
   ]
  },
  {
   "cell_type": "code",
   "execution_count": 3,
   "metadata": {},
   "outputs": [],
   "source": [
    "conn = MongoClient(host='127.0.0.1', port=27017)  # 实例化MongoClient\n",
    "db = conn.get_database('lianjia')  # 连接到Lianjia数据库\n",
    "zufang = db.get_collection('zufang') # 连接到集合zufang\n",
    "mon_data = zufang.find()  # 查询这个集合下的所有记录\n",
    "lianjia_df=pd.DataFrame(list(mon_data))"
   ]
  },
  {
   "cell_type": "code",
   "execution_count": 11,
   "metadata": {},
   "outputs": [],
   "source": []
  },
  {
   "cell_type": "code",
   "execution_count": 4,
   "metadata": {},
   "outputs": [],
   "source": [
    "import pyecharts\n",
    "from pyecharts.charts import Bar\n",
    "from pyecharts import options as opts"
   ]
  },
  {
   "cell_type": "code",
   "execution_count": 51,
   "metadata": {},
   "outputs": [
    {
     "data": {
      "text/plain": [
       "'F:\\\\作业\\\\毕业设计\\\\项目\\\\lianjiaWeb\\\\Mainapp\\\\data_analysis\\\\html\\\\count_bar.html'"
      ]
     },
     "execution_count": 51,
     "metadata": {},
     "output_type": "execute_result"
    }
   ],
   "source": [
    "# 1.城市各地区房源数量  1.以区县分钟，统计数量\n",
    "\n",
    "df = lianjia_df[lianjia_df['city'] == '广州']\n",
    "apartment_data = df[df['dataDistributionType'] == 1].groupby('district')['price'].count()\n",
    "entire_rent_data = df[df['title'].str.contains('整租')].groupby('district')['title'].count()\n",
    "joint_rent_data = df[df['title'].str.contains('合租')].groupby('district')['area'].count()\n",
    "df_new = pd.DataFrame([apartment_data, entire_rent_data, joint_rent_data])\n",
    "df_new = df_new.T\n",
    "df_new.rename(columns={'price': 'apartment', 'title': 'entire', 'area': 'joint'}, inplace=True) \n",
    "data_x = df_new.index\n",
    "apartment_y_data = list(df_new.iloc[:, 0].astype(\"float\"))\n",
    "entire_rent_y_data = list(df_new.iloc[:, 1].astype(\"float\"))\n",
    "joint_rent_y_data = list(df_new.iloc[:, 2].astype(\"float\"))\n",
    "bar = (\n",
    "        Bar(\n",
    "            init_opts=opts.InitOpts(\n",
    "                width=\"1000px\"\n",
    "                )\n",
    "            )\n",
    "            .add_xaxis(list(data_x))\n",
    "            .add_yaxis('公寓', apartment_y_data)  # numpy.int32不能显示\n",
    "            .add_yaxis('整租', entire_rent_y_data)\n",
    "            .add_yaxis('合租', joint_rent_y_data)\n",
    "            .set_global_opts(title_opts=opts.TitleOpts(title=\"{}各地区租房房源数量统计\")\n",
    "        )\n",
    ")\n",
    "bar.render('html/count_bar.html')"
   ]
  },
  {
   "cell_type": "code",
   "execution_count": 6,
   "metadata": {},
   "outputs": [
    {
     "data": {
      "text/html": [
       "\n",
       "<script>\n",
       "    require.config({\n",
       "        paths: {\n",
       "            'echarts':'https://assets.pyecharts.org/assets/echarts.min'\n",
       "        }\n",
       "    });\n",
       "</script>\n",
       "\n",
       "        <div id=\"c7219c96843a4321b333f74304eaf6c3\" style=\"width:900px; height:500px;\"></div>\n",
       "\n",
       "<script>\n",
       "        require(['echarts'], function(echarts) {\n",
       "                var chart_c7219c96843a4321b333f74304eaf6c3 = echarts.init(\n",
       "                    document.getElementById('c7219c96843a4321b333f74304eaf6c3'), 'white', {renderer: 'canvas'});\n",
       "                var option_c7219c96843a4321b333f74304eaf6c3 = {\n",
       "    \"animation\": true,\n",
       "    \"animationThreshold\": 2000,\n",
       "    \"animationDuration\": 1000,\n",
       "    \"animationEasing\": \"cubicOut\",\n",
       "    \"animationDelay\": 0,\n",
       "    \"animationDurationUpdate\": 300,\n",
       "    \"animationEasingUpdate\": \"cubicOut\",\n",
       "    \"animationDelayUpdate\": 0,\n",
       "    \"color\": [\n",
       "        \"#c23531\",\n",
       "        \"#2f4554\",\n",
       "        \"#61a0a8\",\n",
       "        \"#d48265\",\n",
       "        \"#749f83\",\n",
       "        \"#ca8622\",\n",
       "        \"#bda29a\",\n",
       "        \"#6e7074\",\n",
       "        \"#546570\",\n",
       "        \"#c4ccd3\",\n",
       "        \"#f05b72\",\n",
       "        \"#ef5b9c\",\n",
       "        \"#f47920\",\n",
       "        \"#905a3d\",\n",
       "        \"#fab27b\",\n",
       "        \"#2a5caa\",\n",
       "        \"#444693\",\n",
       "        \"#726930\",\n",
       "        \"#b2d235\",\n",
       "        \"#6d8346\",\n",
       "        \"#ac6767\",\n",
       "        \"#1d953f\",\n",
       "        \"#6950a1\",\n",
       "        \"#918597\"\n",
       "    ],\n",
       "    \"series\": [\n",
       "        {\n",
       "            \"type\": \"bar\",\n",
       "            \"name\": \"\\u4e2a\\u4eba\\u623f\\u6e90\",\n",
       "            \"data\": [\n",
       "                20.4,\n",
       "                28.6,\n",
       "                24.2,\n",
       "                98.8,\n",
       "                80.1,\n",
       "                55.1,\n",
       "                56.5,\n",
       "                24.5,\n",
       "                70.1,\n",
       "                88.8,\n",
       "                51.8\n",
       "            ],\n",
       "            \"barCategoryGap\": \"20%\",\n",
       "            \"label\": {\n",
       "                \"show\": true,\n",
       "                \"position\": \"top\",\n",
       "                \"margin\": 8\n",
       "            }\n",
       "        },\n",
       "        {\n",
       "            \"type\": \"bar\",\n",
       "            \"name\": \"\\u516c\\u5bd3\",\n",
       "            \"data\": [\n",
       "                null,\n",
       "                26.8,\n",
       "                32.6,\n",
       "                59.1,\n",
       "                71.4,\n",
       "                47.3,\n",
       "                44.8,\n",
       "                29.9,\n",
       "                59.0,\n",
       "                120.4,\n",
       "                32.9\n",
       "            ],\n",
       "            \"barCategoryGap\": \"20%\",\n",
       "            \"label\": {\n",
       "                \"show\": true,\n",
       "                \"position\": \"top\",\n",
       "                \"margin\": 8\n",
       "            }\n",
       "        }\n",
       "    ],\n",
       "    \"legend\": [\n",
       "        {\n",
       "            \"data\": [\n",
       "                \"\\u4e2a\\u4eba\\u623f\\u6e90\",\n",
       "                \"\\u516c\\u5bd3\"\n",
       "            ],\n",
       "            \"selected\": {\n",
       "                \"\\u4e2a\\u4eba\\u623f\\u6e90\": true,\n",
       "                \"\\u516c\\u5bd3\": true\n",
       "            },\n",
       "            \"show\": true,\n",
       "            \"padding\": 5,\n",
       "            \"itemGap\": 10,\n",
       "            \"itemWidth\": 25,\n",
       "            \"itemHeight\": 14\n",
       "        }\n",
       "    ],\n",
       "    \"tooltip\": {\n",
       "        \"show\": true,\n",
       "        \"trigger\": \"item\",\n",
       "        \"triggerOn\": \"mousemove|click\",\n",
       "        \"axisPointer\": {\n",
       "            \"type\": \"line\"\n",
       "        },\n",
       "        \"textStyle\": {\n",
       "            \"fontSize\": 14\n",
       "        },\n",
       "        \"borderWidth\": 0\n",
       "    },\n",
       "    \"xAxis\": [\n",
       "        {\n",
       "            \"show\": true,\n",
       "            \"scale\": false,\n",
       "            \"nameLocation\": \"end\",\n",
       "            \"nameGap\": 15,\n",
       "            \"gridIndex\": 0,\n",
       "            \"inverse\": false,\n",
       "            \"offset\": 0,\n",
       "            \"splitNumber\": 5,\n",
       "            \"minInterval\": 0,\n",
       "            \"splitLine\": {\n",
       "                \"show\": false,\n",
       "                \"lineStyle\": {\n",
       "                    \"show\": true,\n",
       "                    \"width\": 1,\n",
       "                    \"opacity\": 1,\n",
       "                    \"curveness\": 0,\n",
       "                    \"type\": \"solid\"\n",
       "                }\n",
       "            },\n",
       "            \"data\": [\n",
       "                \"\\u4ece\\u5316\",\n",
       "                \"\\u5357\\u6c99\",\n",
       "                \"\\u589e\\u57ce\",\n",
       "                \"\\u5929\\u6cb3\",\n",
       "                \"\\u6d77\\u73e0\",\n",
       "                \"\\u756a\\u79ba\",\n",
       "                \"\\u767d\\u4e91\",\n",
       "                \"\\u82b1\\u90fd\",\n",
       "                \"\\u8354\\u6e7e\",\n",
       "                \"\\u8d8a\\u79c0\",\n",
       "                \"\\u9ec4\\u57d4\"\n",
       "            ]\n",
       "        }\n",
       "    ],\n",
       "    \"yAxis\": [\n",
       "        {\n",
       "            \"show\": true,\n",
       "            \"scale\": false,\n",
       "            \"nameLocation\": \"end\",\n",
       "            \"nameGap\": 15,\n",
       "            \"gridIndex\": 0,\n",
       "            \"inverse\": false,\n",
       "            \"offset\": 0,\n",
       "            \"splitNumber\": 5,\n",
       "            \"minInterval\": 0,\n",
       "            \"splitLine\": {\n",
       "                \"show\": false,\n",
       "                \"lineStyle\": {\n",
       "                    \"show\": true,\n",
       "                    \"width\": 1,\n",
       "                    \"opacity\": 1,\n",
       "                    \"curveness\": 0,\n",
       "                    \"type\": \"solid\"\n",
       "                }\n",
       "            }\n",
       "        }\n",
       "    ],\n",
       "    \"title\": [\n",
       "        {\n",
       "            \"text\": \"\\u5e7f\\u5dde\\u5404\\u5730\\u533a\\u79df\\u623f\\u623f\\u6e90\\u6570\\u91cf\\u7edf\\u8ba1\",\n",
       "            \"padding\": 5,\n",
       "            \"itemGap\": 10\n",
       "        }\n",
       "    ]\n",
       "};\n",
       "                chart_c7219c96843a4321b333f74304eaf6c3.setOption(option_c7219c96843a4321b333f74304eaf6c3);\n",
       "        });\n",
       "    </script>\n"
      ],
      "text/plain": [
       "<pyecharts.render.display.HTML at 0x1924b368808>"
      ]
     },
     "execution_count": 6,
     "metadata": {},
     "output_type": "execute_result"
    }
   ],
   "source": [
    "# 各每平米租金\n",
    "apartment_per_price = df_gz[df_gz['dataDistributionType'] == 1].groupby('district')['per_price'].mean().round(decimals=1)\n",
    "geren_per_price = df_gz.loc[df_gz['dataDistributionType'] == 0].groupby('district')['per_price'].mean().round(decimals=1)\n",
    "df = pd.DataFrame([geren_per_price, apartment_per_price])\n",
    "df = df.T\n",
    "y1 = df.iloc[:, 0].astype(\"float\")\n",
    "y2 = df.iloc[:, 1].astype(\"float\")\n",
    "bar2 = (\n",
    "    Bar()\n",
    "    .add_xaxis(list(df.index))\n",
    "    .add_yaxis('个人房源',list(y1))  #numpy.int32不能显示\n",
    "    .add_yaxis('公寓',list(y2))\n",
    "    .set_global_opts(title_opts=opts.TitleOpts(title=\"广州各地区租房房源数量统计\"))\n",
    ")\n",
    "bar2.render('./Mainapp/data_analysis/html/test3_pie.html')\n"
   ]
  },
  {
   "cell_type": "code",
   "execution_count": 30,
   "metadata": {},
   "outputs": [
    {
     "name": "stdout",
     "output_type": "stream",
     "text": [
      "[['4室1厅2卫', 712.0], ['3室1厅2卫', 713.0], ['4室2厅2卫', 1193.0], ['2室2厅1卫', 1961.0], ['3室1厅1卫', 2285.0], ['3室2厅1卫', 2573.0], ['1室0厅1卫', 3324.0], ['3室2厅2卫', 3424.0], ['1室1厅1卫', 4816.0], ['2室1厅1卫', 5448.0]]\n"
     ]
    },
    {
     "data": {
      "text/plain": [
       "'F:\\\\作业\\\\毕业设计\\\\项目\\\\lianjiaWeb\\\\Mainapp\\\\data_analysis\\\\html\\\\test3_pie.html'"
      ]
     },
     "execution_count": 30,
     "metadata": {},
     "output_type": "execute_result"
    }
   ],
   "source": [
    "# 户型分布\n",
    "from pyecharts.charts import Pie\n",
    "temp = df_gz.groupby('houseType')['price'].count().reset_index()\n",
    "temp.rename(columns={'price': 'counter'}, inplace=True) \n",
    "temp = temp.nlargest(10, 'counter').reset_index()\n",
    "x_data = list(temp['houseType'].values)\n",
    "y_data = list(temp['counter'].values.astype(\"float\"))\n",
    "data_pair = [list(z) for z in zip(x_data, y_data)]\n",
    "data_pair.sort(key=lambda x: x[1])\n",
    "print(data_pair)\n",
    "\n",
    "pie = (\n",
    "    Pie()\n",
    "    .add(\"\", [list(z) for z in zip(x_data, y_data)])\n",
    "    .set_global_opts(title_opts=opts.TitleOpts(title=\"广州户型分布\"))\n",
    "    .set_series_opts(label_opts=opts.LabelOpts(formatter=\"{b}: {c}\"))\n",
    "   \n",
    ")\n",
    "pie.render('./Mainapp/data_analysis/html/test3_pie.html')\n"
   ]
  },
  {
   "cell_type": "code",
   "execution_count": 48,
   "metadata": {},
   "outputs": [
    {
     "data": {
      "text/plain": [
       "'F:\\\\作业\\\\毕业设计\\\\项目\\\\lianjiaWeb\\\\Mainapp\\\\data_analysis\\\\html\\\\orientation_pie.html'"
      ]
     },
     "execution_count": 48,
     "metadata": {},
     "output_type": "execute_result"
    }
   ],
   "source": [
    "# 朝向统计\n",
    "temp = df_gz.dropna(subset=['orientation'])  # 清理数据\n",
    "temp = temp.groupby('orientation')['price'].count().reset_index()\n",
    "temp.rename(columns={'price': 'counter'}, inplace=True) \n",
    "temp = temp.nlargest(6, 'counter').reset_index()\n",
    "x_data = list(temp['orientation'].values)\n",
    "y_data = list(temp['counter'].values.astype(\"float\"))\n",
    "data_pair = [list(z) for z in zip(x_data, y_data)]\n",
    "data_pair.sort(key=lambda x: x[1])\n",
    "pie = (\n",
    "    Pie()\n",
    "    .add(\n",
    "        series_name=\"\",\n",
    "        radius=[\"50%\", \"70%\"],\n",
    "        data_pair=data_pair,\n",
    "        label_opts=opts.LabelOpts(is_show=False, position=\"center\"),\n",
    "    )\n",
    "    .set_global_opts(legend_opts=opts.LegendOpts(pos_left=\"legft\", orient=\"vertical\"))\n",
    "    .set_series_opts(\n",
    "        tooltip_opts=opts.TooltipOpts(\n",
    "            trigger=\"item\", formatter=\"{a} <br/>{b}: {c} ({d}%)\"\n",
    "        ),\n",
    "        label_opts=opts.LabelOpts(formatter=\"{b}:  ({d}%)\")\n",
    "    )\n",
    "    \n",
    ")\n",
    "pie.render('./Mainapp/data_analysis/html/orientation_pie.html')\n"
   ]
  },
  {
   "cell_type": "code",
   "execution_count": 104,
   "metadata": {
    "collapsed": true
   },
   "outputs": [
    {
     "data": {
      "text/plain": [
       "'F:\\\\作业\\\\毕业设计\\\\项目\\\\lianjiaWeb\\\\Mainapp\\\\data_analysis\\\\html\\\\area_group_bar.html'"
      ]
     },
     "execution_count": 104,
     "metadata": {},
     "output_type": "execute_result"
    }
   ],
   "source": [
    "# 租房面积分布\n",
    "bins = [0, 20,  40,  60,  80,  100,  120,  140,  160,  180,  200, 350]\n",
    "temp2 = df_gz.dropna(subset=['area'])  # 清理数据\n",
    "temp2['area_group'] = pd.cut(temp2.area, bins, right=False)  # 面积分组\n",
    "temp2 = temp2.groupby('area_group')['price'].count().reset_index()\n",
    "temp2.rename(columns={'price': 'counter'}, inplace=True) \n",
    "temp2['area_group']\n",
    "bar_area = (\n",
    "    Bar()\n",
    "    .add_xaxis(list(temp2['area_group'].values.astype('str')))\n",
    "    .add_yaxis(\"面积统计\", list(temp2['counter'].values.astype(\"float\")))\n",
    "    .set_global_opts(title_opts=opts.TitleOpts(title=\"Bar-基本示例\", subtitle=\"我是副标题\"))\n",
    "    \n",
    ")\n",
    "bar_area.render('./Mainapp/data_analysis/html/area_group_bar.html')\n",
    "    "
   ]
  },
  {
   "cell_type": "code",
   "execution_count": 122,
   "metadata": {},
   "outputs": [
    {
     "data": {
      "text/plain": [
       "'F:\\\\作业\\\\毕业设计\\\\项目\\\\lianjiaWeb\\\\Mainapp\\\\data_analysis\\\\html\\\\bar_mic_top10.html'"
      ]
     },
     "execution_count": 122,
     "metadata": {},
     "output_type": "execute_result"
    }
   ],
   "source": [
    "# 租金最高的十个商圈\n",
    "temp3 = df_gz.groupby('microdistrict')['per_price'].mean().reset_index()\n",
    "temp3 = temp3.round(1)\n",
    "temp3 = temp3.nlargest(10, 'per_price').reset_index()\n",
    "attr = list(temp3['microdistrict'])\n",
    "value = list(temp3['per_price'])\n",
    "bar_mic_top10 = (\n",
    "    Bar(\n",
    "        init_opts=opts.InitOpts(\n",
    "            width=\"1000px\", \n",
    "            animation_opts=opts.AnimationOpts(\n",
    "                animation_delay=1000, animation_easing=\"elasticOut\"\n",
    "            )\n",
    "        )\n",
    "    )\n",
    "    .add_xaxis(attr)\n",
    "    .add_yaxis(\"\", value)\n",
    "    .set_global_opts(title_opts=opts.TitleOpts(title=\"Bar-动画配置基本示例\", subtitle=\"我是副标题\"))\n",
    ")\n",
    "bar_mic_top10.render('./Mainapp/data_analysis/html/bar_mic_top10.html')\n"
   ]
  },
  {
   "cell_type": "code",
   "execution_count": 145,
   "metadata": {},
   "outputs": [
    {
     "data": {
      "text/plain": [
       "'F:\\\\作业\\\\毕业设计\\\\项目\\\\lianjiaWeb\\\\Mainapp\\\\data_analysis\\\\html\\\\worldCloud.html'"
      ]
     },
     "execution_count": 145,
     "metadata": {},
     "output_type": "execute_result"
    }
   ],
   "source": [
    "# 词云\n",
    "from pyecharts.charts import WordCloud\n",
    "from collections import Counter\n",
    "tags = []\n",
    "temp4 = df_gz.copy()\n",
    "for tag in temp4.dropna(subset=['tags'])['tags']:\n",
    "    tags.extend(tag)\n",
    "for orientation, houseType in zip(temp4['orientation'], temp4['houseType']):\n",
    "    tags.append(orientation)\n",
    "    tags.append(houseType)\n",
    "\n",
    "tag_name = Counter(tags).keys()\n",
    "tag_count = Counter(tags).values()\n",
    "wc = (\n",
    "    WordCloud()\n",
    "    .add(series_name=\"热点分析\", data_pair=[list(z) for z in zip(tag_name, tag_count)], word_size_range=[6, 66])\n",
    "    .set_global_opts(\n",
    "        title_opts=opts.TitleOpts(\n",
    "            title=\"热点分析\", title_textstyle_opts=opts.TextStyleOpts(font_size=23)\n",
    "        ),\n",
    "        tooltip_opts=opts.TooltipOpts(is_show=True),\n",
    "    )\n",
    ")\n",
    "wc.render('./Mainapp/data_analysis/html/worldCloud.html')\n"
   ]
  },
  {
   "cell_type": "code",
   "execution_count": 174,
   "metadata": {},
   "outputs": [
    {
     "data": {
      "text/plain": [
       "'F:\\\\作业\\\\毕业设计\\\\项目\\\\lianjiaWeb\\\\Mainapp\\\\data_analysis\\\\html\\\\bar_wordCount.html'"
      ]
     },
     "execution_count": 174,
     "metadata": {},
     "output_type": "execute_result"
    }
   ],
   "source": [
    "# 标签统计\n",
    "from operator import itemgetter\n",
    "tags2 = []\n",
    "for tag in temp4.dropna(subset=['tags'])['tags']:\n",
    "    tags2.extend(tag)\n",
    "x_data = sorted(Counter(tags2).items(), key=itemgetter(1), reverse=True)\n",
    "y_data = sorted(Counter(tags2).items(), key=itemgetter(1), reverse=True)\n",
    "x_data = list(map(itemgetter(0), x_data))\n",
    "y_data = list(map(itemgetter(1), y_data))\n",
    "bar_wordCount = (\n",
    "    Bar()\n",
    "    .add_xaxis(list(x_data))\n",
    "    .add_yaxis('', list(y_data))  \n",
    "    .set_global_opts(\n",
    "        title_opts=opts.TitleOpts(title=\"标签统计\"),\n",
    "        xaxis_opts=opts.AxisOpts(axislabel_opts=opts.LabelOpts(rotate=-50)),\n",
    "    )\n",
    ")\n",
    "bar_wordCount.render('./Mainapp/data_analysis/html/bar_wordCount.html')\n"
   ]
  },
  {
   "cell_type": "code",
   "execution_count": 71,
   "metadata": {},
   "outputs": [
    {
     "data": {
      "text/plain": [
       "'F:\\\\作业\\\\毕业设计\\\\项目\\\\lianjiaWeb\\\\Mainapp\\\\data_analysis\\\\html\\\\rentType_pie.html'"
      ]
     },
     "execution_count": 71,
     "metadata": {},
     "output_type": "execute_result"
    }
   ],
   "source": [
    "# 租赁类型 饼状图\n",
    "from pyecharts.charts import Pie\n",
    "temp = lianjia_df[lianjia_df['city'] == '广州']\n",
    "apartment_data = df[df['dataDistributionType'] == 1].count()\n",
    "entire_rent_data = df[df['title'].str.contains('整租')].count()\n",
    "joint_rent_data = df[df['title'].str.contains('合租')].count()\n",
    "y_data = [float(apartment_data[0]), float(entire_rent_data[0]), float(joint_rent_data[0])]\n",
    "x_data = ['公寓', '整租', '合租']\n",
    "data_pair = [list(z) for z in zip(x_data, y_data)]\n",
    "pie = (\n",
    "    Pie()\n",
    "    .add(\n",
    "        series_name=\"\",\n",
    "        radius=[\"50%\", \"70%\"],\n",
    "        data_pair=data_pair,\n",
    "        label_opts=opts.LabelOpts(is_show=False, position=\"center\"),\n",
    "    )\n",
    "    .set_global_opts(legend_opts=opts.LegendOpts(pos_left=\"legft\", orient=\"vertical\"))\n",
    "    .set_series_opts(\n",
    "        tooltip_opts=opts.TooltipOpts(\n",
    "            trigger=\"item\", formatter=\"{a} <br/>{b}: {c} ({d}%)\"\n",
    "        ),\n",
    "        label_opts=opts.LabelOpts(formatter=\"{b}:  ({d}%)\")\n",
    "    )\n",
    "    \n",
    ")\n",
    "pie.render('html/rentType_pie.html')"
   ]
  },
  {
   "cell_type": "code",
   "execution_count": null,
   "metadata": {},
   "outputs": [],
   "source": []
  },
  {
   "cell_type": "code",
   "execution_count": null,
   "metadata": {},
   "outputs": [],
   "source": []
  }
 ],
 "metadata": {
  "kernelspec": {
   "display_name": "Python 3",
   "language": "python",
   "name": "python3"
  },
  "language_info": {
   "codemirror_mode": {
    "name": "ipython",
    "version": 3
   },
   "file_extension": ".py",
   "mimetype": "text/x-python",
   "name": "python",
   "nbconvert_exporter": "python",
   "pygments_lexer": "ipython3",
   "version": "3.7.5"
  }
 },
 "nbformat": 4,
 "nbformat_minor": 1
}
