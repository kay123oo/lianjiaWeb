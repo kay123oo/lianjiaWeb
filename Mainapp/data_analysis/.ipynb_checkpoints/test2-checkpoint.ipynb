{
 "cells": [
  {
   "cell_type": "code",
   "execution_count": 2,
   "metadata": {},
   "outputs": [],
   "source": [
    "import pandas as pd\n",
    "import numpy as np \n",
    "import pymongo\n",
    "from pymongo import MongoClient"
   ]
  },
  {
   "cell_type": "code",
   "execution_count": 4,
   "metadata": {},
   "outputs": [],
   "source": [
    "conn = MongoClient(host='127.0.0.1', port=27017)  # 实例化MongoClient\n",
    "db = conn.get_database('lianjia')  # 连接到Lianjia数据库\n",
    "zufang = db.get_collection('zufang') # 连接到集合zufang\n",
    "mon_data = zufang.find()  # 查询这个集合下的所有记录\n",
    "lianjia_df=pd.DataFrame(list(mon_data))"
   ]
  },
  {
   "cell_type": "code",
   "execution_count": 1,
   "metadata": {},
   "outputs": [
    {
     "ename": "NameError",
     "evalue": "name 'lianjia_df' is not defined",
     "output_type": "error",
     "traceback": [
      "\u001b[1;31m---------------------------------------------------------------------------\u001b[0m",
      "\u001b[1;31mNameError\u001b[0m                                 Traceback (most recent call last)",
      "\u001b[1;32m<ipython-input-1-f06ccb5899d2>\u001b[0m in \u001b[0;36m<module>\u001b[1;34m\u001b[0m\n\u001b[1;32m----> 1\u001b[1;33m \u001b[0mtemp\u001b[0m \u001b[1;33m=\u001b[0m \u001b[0mlianjia_df\u001b[0m\u001b[1;33m[\u001b[0m\u001b[0mlianjia_df\u001b[0m\u001b[1;33m[\u001b[0m\u001b[1;34m'city'\u001b[0m\u001b[1;33m]\u001b[0m \u001b[1;33m==\u001b[0m \u001b[1;34m'广州'\u001b[0m\u001b[1;33m]\u001b[0m\u001b[1;33m\u001b[0m\u001b[1;33m\u001b[0m\u001b[0m\n\u001b[0m\u001b[0;32m      2\u001b[0m \u001b[0mtemp\u001b[0m \u001b[1;33m=\u001b[0m \u001b[0mtemp\u001b[0m\u001b[1;33m.\u001b[0m\u001b[0mdropna\u001b[0m\u001b[1;33m(\u001b[0m\u001b[0msubset\u001b[0m\u001b[1;33m=\u001b[0m\u001b[1;33m[\u001b[0m\u001b[1;34m'price'\u001b[0m\u001b[1;33m,\u001b[0m \u001b[1;34m'area'\u001b[0m\u001b[1;33m]\u001b[0m\u001b[1;33m)\u001b[0m\u001b[1;33m\u001b[0m\u001b[1;33m\u001b[0m\u001b[0m\n\u001b[0;32m      3\u001b[0m \u001b[0mtemp\u001b[0m\u001b[1;33m[\u001b[0m\u001b[1;34m'per_price'\u001b[0m\u001b[1;33m]\u001b[0m \u001b[1;33m=\u001b[0m \u001b[1;33m(\u001b[0m\u001b[0mtemp\u001b[0m\u001b[1;33m[\u001b[0m\u001b[1;34m'price'\u001b[0m\u001b[1;33m]\u001b[0m \u001b[1;33m/\u001b[0m\u001b[0mtemp\u001b[0m\u001b[1;33m[\u001b[0m\u001b[1;34m'area'\u001b[0m\u001b[1;33m]\u001b[0m\u001b[1;33m)\u001b[0m\u001b[1;33m.\u001b[0m\u001b[0mround\u001b[0m\u001b[1;33m(\u001b[0m\u001b[0mdecimals\u001b[0m\u001b[1;33m=\u001b[0m\u001b[1;36m2\u001b[0m\u001b[1;33m)\u001b[0m\u001b[1;33m\u001b[0m\u001b[1;33m\u001b[0m\u001b[0m\n\u001b[0;32m      4\u001b[0m \u001b[0mbins\u001b[0m \u001b[1;33m=\u001b[0m \u001b[1;33m[\u001b[0m\u001b[1;36m100\u001b[0m\u001b[1;33m*\u001b[0m\u001b[0mi\u001b[0m \u001b[1;32mfor\u001b[0m \u001b[0mi\u001b[0m \u001b[1;32min\u001b[0m \u001b[0mrange\u001b[0m\u001b[1;33m(\u001b[0m\u001b[1;36m13\u001b[0m\u001b[1;33m)\u001b[0m\u001b[1;33m]\u001b[0m\u001b[1;33m\u001b[0m\u001b[1;33m\u001b[0m\u001b[0m\n\u001b[0;32m      5\u001b[0m \u001b[0mtemp\u001b[0m\u001b[1;33m[\u001b[0m\u001b[1;34m'bin'\u001b[0m\u001b[1;33m]\u001b[0m \u001b[1;33m=\u001b[0m \u001b[0mpd\u001b[0m\u001b[1;33m.\u001b[0m\u001b[0mcut\u001b[0m\u001b[1;33m(\u001b[0m\u001b[0mtemp\u001b[0m\u001b[1;33m.\u001b[0m\u001b[0mdropna\u001b[0m\u001b[1;33m(\u001b[0m\u001b[0msubset\u001b[0m\u001b[1;33m=\u001b[0m\u001b[1;33m[\u001b[0m\u001b[1;34m'distance'\u001b[0m\u001b[1;33m]\u001b[0m\u001b[1;33m)\u001b[0m\u001b[1;33m[\u001b[0m\u001b[1;34m'distance'\u001b[0m\u001b[1;33m]\u001b[0m\u001b[1;33m,\u001b[0m \u001b[0mbins\u001b[0m\u001b[1;33m)\u001b[0m\u001b[1;33m\u001b[0m\u001b[1;33m\u001b[0m\u001b[0m\n",
      "\u001b[1;31mNameError\u001b[0m: name 'lianjia_df' is not defined"
     ]
    }
   ],
   "source": [
    "# 离地铁站距离与租金关系\n",
    "temp = lianjia_df[lianjia_df['city'] == '广州']\n",
    "temp = temp.dropna(subset=['price', 'area']) \n",
    "temp['per_price'] = (temp['price'] /temp['area']).round(decimals=2)\n",
    "bins = [100*i for i in range(13)]\n",
    "temp['bin'] = pd.cut(temp.dropna(subset=['distance'])['distance'], bins)\n",
    "bin_data= temp.groupby('bin')['per_price'].mean().round(decimals=2)\n",
    "bin_count= temp.groupby('bin')['per_price'].count()\n"
   ]
  },
  {
   "cell_type": "code",
   "execution_count": 20,
   "metadata": {},
   "outputs": [
    {
     "data": {
      "text/plain": [
       "'F:\\\\作业\\\\毕业设计\\\\项目\\\\lianjiaWeb\\\\Mainapp\\\\data_analysis\\\\html\\\\line.html'"
      ]
     },
     "execution_count": 20,
     "metadata": {},
     "output_type": "execute_result"
    }
   ],
   "source": [
    "from pyecharts.charts import Line\n",
    "from pyecharts import options as opts\n",
    "line = (\n",
    "    Line()\n",
    "    .set_global_opts(\n",
    "        tooltip_opts=opts.TooltipOpts(is_show=False),\n",
    "        xaxis_opts=opts.AxisOpts(type_=\"category\"),\n",
    "        yaxis_opts=opts.AxisOpts(\n",
    "            type_=\"value\",\n",
    "            axistick_opts=opts.AxisTickOpts(is_show=True),\n",
    "            splitline_opts=opts.SplitLineOpts(is_show=True),\n",
    "        ),\n",
    "    )\n",
    "    .add_xaxis(xaxis_data=list(bin_data.index.astype('str')))\n",
    "    .add_yaxis(\n",
    "        series_name=\"\",\n",
    "        y_axis=list(bin_data.values),\n",
    "        symbol=\"emptyCircle\",\n",
    "        is_symbol_show=True,\n",
    "        is_smooth=True,\n",
    "        label_opts=opts.LabelOpts(is_show=False),\n",
    "))\n",
    "line.render('html/line.html')"
   ]
  },
  {
   "cell_type": "code",
   "execution_count": 51,
   "metadata": {},
   "outputs": [
    {
     "data": {
      "text/plain": [
       "'F:\\\\作业\\\\毕业设计\\\\项目\\\\lianjiaWeb\\\\Mainapp\\\\data_analysis\\\\html\\\\mixed_bar_and_line.html'"
      ]
     },
     "execution_count": 51,
     "metadata": {},
     "output_type": "execute_result"
    }
   ],
   "source": [
    "import pyecharts.options as opts\n",
    "from pyecharts.charts import Bar, Line\n",
    "bar = (\n",
    "    Bar()\n",
    "    .add_xaxis(xaxis_data=list(bin_data.index.astype('str')))\n",
    "    .add_yaxis(\n",
    "        series_name=\"房源数量\",\n",
    "        yaxis_data=list(bin_count.values.astype(\"float\")),\n",
    "        label_opts=opts.LabelOpts(is_show=False),\n",
    "    )\n",
    "    .set_global_opts(\n",
    "        tooltip_opts=opts.TooltipOpts(\n",
    "            is_show=True, trigger=\"axis\", axis_pointer_type=\"cross\"\n",
    "        ),\n",
    "        xaxis_opts=opts.AxisOpts(\n",
    "            type_=\"category\",\n",
    "            axispointer_opts=opts.AxisPointerOpts(is_show=True, type_=\"shadow\"),\n",
    "        ),\n",
    "        yaxis_opts=opts.AxisOpts(\n",
    "            type_=\"value\",\n",
    "            axistick_opts=opts.AxisTickOpts(is_show=True),\n",
    "            splitline_opts=opts.SplitLineOpts(is_show=True),\n",
    "        ),\n",
    "    )\n",
    ")\n",
    "\n",
    "line = (\n",
    "    Line()\n",
    "    .set_global_opts(\n",
    "        tooltip_opts=opts.TooltipOpts(is_show=False),\n",
    "        xaxis_opts=opts.AxisOpts(type_=\"category\"),\n",
    "        yaxis_opts=opts.AxisOpts(\n",
    "            name=\"元\",\n",
    "            type_=\"value\",\n",
    "            axistick_opts=opts.AxisTickOpts(is_show=True),\n",
    "            splitline_opts=opts.SplitLineOpts(is_show=True),\n",
    "        ),\n",
    "    )\n",
    "    .add_xaxis(xaxis_data=list(bin_data.index.astype('str')))\n",
    "\n",
    "    .add_yaxis(\n",
    "        series_name=\"\",\n",
    "        y_axis=list(bin_data.values),\n",
    "        symbol=\"emptyCircle\",\n",
    "        is_symbol_show=True,\n",
    "        is_smooth=True,\n",
    "        label_opts=opts.LabelOpts(is_show=True),)\n",
    "    .extend_axis(\n",
    "        yaxis=opts.AxisOpts(\n",
    "            name=\"离地铁站距离\",\n",
    "            type_=\"value\",\n",
    "\n",
    "        )\n",
    "    ))\n",
    "bar.overlap(line).render(\"html/mixed_bar_and_line.html\")"
   ]
  },
  {
   "cell_type": "code",
   "execution_count": 68,
   "metadata": {},
   "outputs": [
    {
     "data": {
      "text/plain": [
       "'F:\\\\作业\\\\毕业设计\\\\项目\\\\lianjiaWeb\\\\Mainapp\\\\data_analysis\\\\html\\\\mixed_bar_and_line222.html'"
      ]
     },
     "execution_count": 68,
     "metadata": {},
     "output_type": "execute_result"
    }
   ],
   "source": [
    "bar2 = (\n",
    "    Bar()\n",
    "    .add_xaxis(xaxis_data=list(bin_data.index.astype('str')))\n",
    "    .add_yaxis(\n",
    "        series_name=\"房源数量\",\n",
    "        yaxis_data=list(bin_count.values.astype(\"float\")),\n",
    "        label_opts=opts.LabelOpts(is_show=False),\n",
    "    )\n",
    "    .extend_axis(\n",
    "        yaxis=opts.AxisOpts(\n",
    "            name=\"元\",\n",
    "            type_=\"value\",\n",
    "            min_=10,\n",
    "            max_=85,\n",
    "            interval=15,\n",
    "        )\n",
    "    )\n",
    "    .set_global_opts(\n",
    "        tooltip_opts=opts.TooltipOpts(\n",
    "            is_show=True, trigger=\"axis\", axis_pointer_type=\"cross\"\n",
    "        ),\n",
    "        xaxis_opts=opts.AxisOpts(\n",
    "            type_=\"category\",\n",
    "            axispointer_opts=opts.AxisPointerOpts(is_show=True, type_=\"shadow\"),\n",
    "        ),\n",
    "        yaxis_opts=opts.AxisOpts(\n",
    "            type_=\"value\",\n",
    "            min_=0,\n",
    "            max_=4000,\n",
    "            interval=500,\n",
    "            axistick_opts=opts.AxisTickOpts(is_show=True),\n",
    "            splitline_opts=opts.SplitLineOpts(is_show=True),\n",
    "        ),\n",
    "    )\n",
    ")\n",
    "\n",
    "line2 = (\n",
    "    Line()\n",
    "    .add_xaxis(xaxis_data=list(bin_data.index.astype('str')))\n",
    "    .add_yaxis(\n",
    "        series_name=\"平均温度\",\n",
    "        yaxis_index=1,\n",
    "        y_axis=list(bin_data.values),\n",
    "        label_opts=opts.LabelOpts(is_show=False),\n",
    "    )\n",
    ")\n",
    "\n",
    "bar2.overlap(line2).render(\"html/mixed_bar_and_line222.html\")"
   ]
  },
  {
   "cell_type": "code",
   "execution_count": 6,
   "metadata": {},
   "outputs": [
    {
     "data": {
      "text/plain": [
       "'F:\\\\作业\\\\毕业设计\\\\项目\\\\lianjiaWeb\\\\Mainapp\\\\data_analysis\\\\html\\\\area_price_relation.html'"
      ]
     },
     "execution_count": 6,
     "metadata": {},
     "output_type": "execute_result"
    }
   ],
   "source": [
    "temp = lianjia_df[(lianjia_df['city'] == '广州')&(lianjia_df['area']<150)]\n",
    "temp = temp.dropna(subset=['price', 'area']) \n",
    "temp['per_price'] = (temp['price'] /temp['area']).round(decimals=2)\n",
    "temp =  temp.groupby('area')['per_price'].mean().round(decimals=2)\n",
    "\n",
    "from pyecharts.charts import Line\n",
    "from pyecharts import options as opts\n",
    "line = (\n",
    "    Line()\n",
    "    .set_global_opts(\n",
    "        tooltip_opts=opts.TooltipOpts(is_show=False),\n",
    "        xaxis_opts=opts.AxisOpts(type_=\"category\"),\n",
    "        yaxis_opts=opts.AxisOpts(\n",
    "            type_=\"value\",\n",
    "            axistick_opts=opts.AxisTickOpts(is_show=True),\n",
    "            splitline_opts=opts.SplitLineOpts(is_show=True),\n",
    "        ),\n",
    "    )\n",
    "    .add_xaxis(xaxis_data=list(temp.index))\n",
    "    .add_yaxis(\n",
    "        series_name=\"\",\n",
    "        y_axis=list(temp.values),\n",
    "        symbol=\"emptyCircle\",\n",
    "        is_symbol_show=True,\n",
    "        is_smooth=True,\n",
    "        label_opts=opts.LabelOpts(is_show=False),\n",
    "))\n",
    "line.render('html/area_price_relation.html')\n"
   ]
  },
  {
   "cell_type": "code",
   "execution_count": 60,
   "metadata": {},
   "outputs": [
    {
     "data": {
      "text/plain": [
       "59.5"
      ]
     },
     "execution_count": 60,
     "metadata": {},
     "output_type": "execute_result"
    }
   ],
   "source": [
    "# 精装与简装租金的差别\n",
    "temp2 = lianjia_df[lianjia_df['city'] == '广州']\n",
    "temp2 = temp2.dropna(subset=['price', 'area']) \n",
    "temp2['per_price'] = (temp2['price'] /temp2['area']).round(decimals=2)\n",
    "temp2['decorated'] = temp2[temp2['tags'].notna()]['tags'].apply(lambda x: '精装' in x)\n",
    "decorated = temp2[temp2['decorated']==True]['per_price'].mean().round(decimals=2)\n",
    "not_decorated = temp2[temp2['decorated']==False]['per_price'].mean().round(decimals=2)\n"
   ]
  },
  {
   "cell_type": "code",
   "execution_count": 97,
   "metadata": {},
   "outputs": [
    {
     "data": {
      "text/html": [
       "<div>\n",
       "<style scoped>\n",
       "    .dataframe tbody tr th:only-of-type {\n",
       "        vertical-align: middle;\n",
       "    }\n",
       "\n",
       "    .dataframe tbody tr th {\n",
       "        vertical-align: top;\n",
       "    }\n",
       "\n",
       "    .dataframe thead th {\n",
       "        text-align: right;\n",
       "    }\n",
       "</style>\n",
       "<table border=\"1\" class=\"dataframe\">\n",
       "  <thead>\n",
       "    <tr style=\"text-align: right;\">\n",
       "      <th></th>\n",
       "      <th>index</th>\n",
       "      <th>houseType</th>\n",
       "      <th>counter</th>\n",
       "      <th>per_price</th>\n",
       "    </tr>\n",
       "  </thead>\n",
       "  <tbody>\n",
       "    <tr>\n",
       "      <th>0</th>\n",
       "      <td>15</td>\n",
       "      <td>2室1厅1卫</td>\n",
       "      <td>9353</td>\n",
       "      <td>55.28</td>\n",
       "    </tr>\n",
       "    <tr>\n",
       "      <th>1</th>\n",
       "      <td>4</td>\n",
       "      <td>1室1厅1卫</td>\n",
       "      <td>8106</td>\n",
       "      <td>70.32</td>\n",
       "    </tr>\n",
       "    <tr>\n",
       "      <th>2</th>\n",
       "      <td>37</td>\n",
       "      <td>3室2厅2卫</td>\n",
       "      <td>5905</td>\n",
       "      <td>38.31</td>\n",
       "    </tr>\n",
       "    <tr>\n",
       "      <th>3</th>\n",
       "      <td>1</td>\n",
       "      <td>1室0厅1卫</td>\n",
       "      <td>5772</td>\n",
       "      <td>76.14</td>\n",
       "    </tr>\n",
       "    <tr>\n",
       "      <th>4</th>\n",
       "      <td>36</td>\n",
       "      <td>3室2厅1卫</td>\n",
       "      <td>4504</td>\n",
       "      <td>39.53</td>\n",
       "    </tr>\n",
       "    <tr>\n",
       "      <th>5</th>\n",
       "      <td>30</td>\n",
       "      <td>3室1厅1卫</td>\n",
       "      <td>4051</td>\n",
       "      <td>63.74</td>\n",
       "    </tr>\n",
       "    <tr>\n",
       "      <th>6</th>\n",
       "      <td>19</td>\n",
       "      <td>2室2厅1卫</td>\n",
       "      <td>3594</td>\n",
       "      <td>48.69</td>\n",
       "    </tr>\n",
       "    <tr>\n",
       "      <th>7</th>\n",
       "      <td>56</td>\n",
       "      <td>4室2厅2卫</td>\n",
       "      <td>1936</td>\n",
       "      <td>46.54</td>\n",
       "    </tr>\n",
       "    <tr>\n",
       "      <th>8</th>\n",
       "      <td>31</td>\n",
       "      <td>3室1厅2卫</td>\n",
       "      <td>1270</td>\n",
       "      <td>50.51</td>\n",
       "    </tr>\n",
       "    <tr>\n",
       "      <th>9</th>\n",
       "      <td>51</td>\n",
       "      <td>4室1厅2卫</td>\n",
       "      <td>1179</td>\n",
       "      <td>143.10</td>\n",
       "    </tr>\n",
       "  </tbody>\n",
       "</table>\n",
       "</div>"
      ],
      "text/plain": [
       "   index houseType  counter  per_price\n",
       "0     15    2室1厅1卫     9353      55.28\n",
       "1      4    1室1厅1卫     8106      70.32\n",
       "2     37    3室2厅2卫     5905      38.31\n",
       "3      1    1室0厅1卫     5772      76.14\n",
       "4     36    3室2厅1卫     4504      39.53\n",
       "5     30    3室1厅1卫     4051      63.74\n",
       "6     19    2室2厅1卫     3594      48.69\n",
       "7     56    4室2厅2卫     1936      46.54\n",
       "8     31    3室1厅2卫     1270      50.51\n",
       "9     51    4室1厅2卫     1179     143.10"
      ]
     },
     "execution_count": 97,
     "metadata": {},
     "output_type": "execute_result"
    }
   ],
   "source": [
    "# 户型与租金的关系\n",
    "temp3 = lianjia_df[lianjia_df['city'] == '广州']\n",
    "temp3 = temp3.dropna(subset=['price', 'area']) \n",
    "temp3['per_price'] = (temp3['price'] /temp3['area']).round(decimals=2)\n",
    "data = temp3.groupby('houseType')['per_price'].mean().round(decimals=2).reset_index()\n",
    "count = temp3.groupby('houseType')['per_price'].count().reset_index()\n",
    "count.rename(columns={'per_price': 'counter'}, inplace=True)\n",
    "count = count.nlargest(10, 'counter').reset_index()\n",
    "res = pd.merge(count,data,on='houseType')\n",
    "res"
   ]
  },
  {
   "cell_type": "code",
   "execution_count": 99,
   "metadata": {},
   "outputs": [
    {
     "data": {
      "text/plain": [
       "'F:\\\\作业\\\\毕业设计\\\\项目\\\\lianjiaWeb\\\\Mainapp\\\\data_analysis\\\\html\\\\houseType_price_relation.html'"
      ]
     },
     "execution_count": 99,
     "metadata": {},
     "output_type": "execute_result"
    }
   ],
   "source": [
    "import pyecharts.options as opts\n",
    "from pyecharts.charts import Bar, Line\n",
    "bar2 = (\n",
    "    Bar()\n",
    "    .add_xaxis(xaxis_data=list(res['houseType']))\n",
    "    .add_yaxis(\n",
    "        series_name=\"房源数量\",\n",
    "        yaxis_data=list(res['counter'].astype(\"float\")),\n",
    "        label_opts=opts.LabelOpts(is_show=False),\n",
    "    )\n",
    "    .extend_axis(\n",
    "        yaxis=opts.AxisOpts(\n",
    "            name=\"元\",\n",
    "            type_=\"value\",\n",
    "        )\n",
    "    )\n",
    "    .set_global_opts(\n",
    "        tooltip_opts=opts.TooltipOpts(\n",
    "            is_show=True, trigger=\"axis\", axis_pointer_type=\"cross\"\n",
    "        ),\n",
    "        xaxis_opts=opts.AxisOpts(\n",
    "            type_=\"category\",\n",
    "            axispointer_opts=opts.AxisPointerOpts(is_show=True, type_=\"shadow\"),\n",
    "        ),\n",
    "        yaxis_opts=opts.AxisOpts(\n",
    "            type_=\"value\",\n",
    "            axistick_opts=opts.AxisTickOpts(is_show=True),\n",
    "            splitline_opts=opts.SplitLineOpts(is_show=True),\n",
    "        ),\n",
    "    )\n",
    ")\n",
    "\n",
    "line2 = (\n",
    "    Line()\n",
    "    .add_xaxis(xaxis_data=list(res['houseType']))\n",
    "    .add_yaxis(\n",
    "        series_name=\"平均温度\",\n",
    "        yaxis_index=1,\n",
    "        y_axis=list(res['per_price']),\n",
    "        label_opts=opts.LabelOpts(is_show=False),\n",
    "    )\n",
    ")\n",
    "\n",
    "bar2.overlap(line2).render(\"html/houseType_price_relation.html\")"
   ]
  },
  {
   "cell_type": "code",
   "execution_count": 58,
   "metadata": {},
   "outputs": [],
   "source": [
    "# 一级数据\n",
    "temp = lianjia_df[lianjia_df['city'] == '广州']\n",
    "temp.dropna(subset=['longitude', 'latitude'])\n",
    "district_counter = temp.groupby('district').head(1)\n",
    "count = temp.groupby('district')['price'].count()\n",
    "district_counter = district_counter.loc[:,['district','longitude', 'latitude']]\n",
    "#district_counter = district_counter.set_index('district') \n",
    "district_counter\n",
    "count\n",
    "result = pd.merge(district_counter, count, on='district')\n",
    "result.rename(columns={'price': 'counter'}, inplace=True) \n",
    "result.rename(columns={'district': 'name'}, inplace=True) \n",
    "dic = result.to_dict(orient='records')\n"
   ]
  },
  {
   "cell_type": "code",
   "execution_count": 57,
   "metadata": {},
   "outputs": [],
   "source": [
    "# 二级数据\n",
    "microdistrict_counter = temp.groupby('microdistrict').head(1)\n",
    "count2 = temp.groupby('microdistrict')['price'].count()\n",
    "microdistrict_counter = microdistrict_counter.loc[:,['microdistrict','longitude', 'latitude']]\n",
    "secondData = pd.merge(microdistrict_counter, count2, on='microdistrict')\n",
    "secondData.rename(columns={'price': 'counter'}, inplace=True) \n",
    "secondData.rename(columns={'microdistrict': 'name'}, inplace=True) \n",
    "secondData = secondData.to_dict(orient='records')\n"
   ]
  },
  {
   "cell_type": "code",
   "execution_count": 64,
   "metadata": {},
   "outputs": [
    {
     "data": {
      "text/plain": [
       "community\n",
       "113中学宿舍    3\n",
       "293医院小区    2\n",
       "30号小区      1\n",
       "37小区       2\n",
       "57号小区      1\n",
       "          ..\n",
       "龙苑大厦       7\n",
       "龙锦大厦       7\n",
       "龟岗三马路      1\n",
       "龟岗四马路      2\n",
       "龟岗大马路      7\n",
       "Name: price, Length: 3643, dtype: object"
      ]
     },
     "execution_count": 64,
     "metadata": {},
     "output_type": "execute_result"
    }
   ],
   "source": [
    "#三级数据\n",
    "community_counter = temp.groupby('community').head(1)\n",
    "count3 = temp.groupby('community')['price'].count().astype(\"str\")\n",
    "community_counter = community_counter.loc[:,['community','longitude', 'latitude']]\n",
    "thirdData = pd.merge(community_counter, count3, on='community')\n",
    "thirdData.rename(columns={'price': 'counter'}, inplace=True) \n",
    "thirdData.rename(columns={'community': 'name'}, inplace=True) \n",
    "thirdData = thirdData.to_dict(orient='records')\n",
    "count3"
   ]
  },
  {
   "cell_type": "code",
   "execution_count": 4,
   "metadata": {},
   "outputs": [],
   "source": [
    "import pyecharts\n",
    "from pyecharts.charts import Bar\n",
    "from pyecharts import options as opts"
   ]
  },
  {
   "cell_type": "code",
   "execution_count": 51,
   "metadata": {},
   "outputs": [
    {
     "data": {
      "text/plain": [
       "'F:\\\\作业\\\\毕业设计\\\\项目\\\\lianjiaWeb\\\\Mainapp\\\\data_analysis\\\\html\\\\count_bar.html'"
      ]
     },
     "execution_count": 51,
     "metadata": {},
     "output_type": "execute_result"
    }
   ],
   "source": [
    "# 1.城市各地区房源数量  1.以区县分钟，统计数量\n",
    "\n",
    "df = lianjia_df[lianjia_df['city'] == '广州']\n",
    "apartment_data = df[df['dataDistributionType'] == 1].groupby('district')['price'].count()\n",
    "entire_rent_data = df[df['title'].str.contains('整租')].groupby('district')['title'].count()\n",
    "joint_rent_data = df[df['title'].str.contains('合租')].groupby('district')['area'].count()\n",
    "df_new = pd.DataFrame([apartment_data, entire_rent_data, joint_rent_data])\n",
    "df_new = df_new.T\n",
    "df_new.rename(columns={'price': 'apartment', 'title': 'entire', 'area': 'joint'}, inplace=True) \n",
    "data_x = df_new.index\n",
    "apartment_y_data = list(df_new.iloc[:, 0].astype(\"float\"))\n",
    "entire_rent_y_data = list(df_new.iloc[:, 1].astype(\"float\"))\n",
    "joint_rent_y_data = list(df_new.iloc[:, 2].astype(\"float\"))\n",
    "bar = (\n",
    "        Bar(\n",
    "            init_opts=opts.InitOpts(\n",
    "                width=\"1000px\"\n",
    "                )\n",
    "            )\n",
    "            .add_xaxis(list(data_x))\n",
    "            .add_yaxis('公寓', apartment_y_data)  # numpy.int32不能显示\n",
    "            .add_yaxis('整租', entire_rent_y_data)\n",
    "            .add_yaxis('合租', joint_rent_y_data)\n",
    "            .set_global_opts(title_opts=opts.TitleOpts(title=\"{}各地区租房房源数量统计\")\n",
    "        )\n",
    ")\n",
    "bar.render('html/count_bar.html')"
   ]
  },
  {
   "cell_type": "code",
   "execution_count": 6,
   "metadata": {},
   "outputs": [
    {
     "data": {
      "text/html": [
       "\n",
       "<script>\n",
       "    require.config({\n",
       "        paths: {\n",
       "            'echarts':'https://assets.pyecharts.org/assets/echarts.min'\n",
       "        }\n",
       "    });\n",
       "</script>\n",
       "\n",
       "        <div id=\"c7219c96843a4321b333f74304eaf6c3\" style=\"width:900px; height:500px;\"></div>\n",
       "\n",
       "<script>\n",
       "        require(['echarts'], function(echarts) {\n",
       "                var chart_c7219c96843a4321b333f74304eaf6c3 = echarts.init(\n",
       "                    document.getElementById('c7219c96843a4321b333f74304eaf6c3'), 'white', {renderer: 'canvas'});\n",
       "                var option_c7219c96843a4321b333f74304eaf6c3 = {\n",
       "    \"animation\": true,\n",
       "    \"animationThreshold\": 2000,\n",
       "    \"animationDuration\": 1000,\n",
       "    \"animationEasing\": \"cubicOut\",\n",
       "    \"animationDelay\": 0,\n",
       "    \"animationDurationUpdate\": 300,\n",
       "    \"animationEasingUpdate\": \"cubicOut\",\n",
       "    \"animationDelayUpdate\": 0,\n",
       "    \"color\": [\n",
       "        \"#c23531\",\n",
       "        \"#2f4554\",\n",
       "        \"#61a0a8\",\n",
       "        \"#d48265\",\n",
       "        \"#749f83\",\n",
       "        \"#ca8622\",\n",
       "        \"#bda29a\",\n",
       "        \"#6e7074\",\n",
       "        \"#546570\",\n",
       "        \"#c4ccd3\",\n",
       "        \"#f05b72\",\n",
       "        \"#ef5b9c\",\n",
       "        \"#f47920\",\n",
       "        \"#905a3d\",\n",
       "        \"#fab27b\",\n",
       "        \"#2a5caa\",\n",
       "        \"#444693\",\n",
       "        \"#726930\",\n",
       "        \"#b2d235\",\n",
       "        \"#6d8346\",\n",
       "        \"#ac6767\",\n",
       "        \"#1d953f\",\n",
       "        \"#6950a1\",\n",
       "        \"#918597\"\n",
       "    ],\n",
       "    \"series\": [\n",
       "        {\n",
       "            \"type\": \"bar\",\n",
       "            \"name\": \"\\u4e2a\\u4eba\\u623f\\u6e90\",\n",
       "            \"data\": [\n",
       "                20.4,\n",
       "                28.6,\n",
       "                24.2,\n",
       "                98.8,\n",
       "                80.1,\n",
       "                55.1,\n",
       "                56.5,\n",
       "                24.5,\n",
       "                70.1,\n",
       "                88.8,\n",
       "                51.8\n",
       "            ],\n",
       "            \"barCategoryGap\": \"20%\",\n",
       "            \"label\": {\n",
       "                \"show\": true,\n",
       "                \"position\": \"top\",\n",
       "                \"margin\": 8\n",
       "            }\n",
       "        },\n",
       "        {\n",
       "            \"type\": \"bar\",\n",
       "            \"name\": \"\\u516c\\u5bd3\",\n",
       "            \"data\": [\n",
       "                null,\n",
       "                26.8,\n",
       "                32.6,\n",
       "                59.1,\n",
       "                71.4,\n",
       "                47.3,\n",
       "                44.8,\n",
       "                29.9,\n",
       "                59.0,\n",
       "                120.4,\n",
       "                32.9\n",
       "            ],\n",
       "            \"barCategoryGap\": \"20%\",\n",
       "            \"label\": {\n",
       "                \"show\": true,\n",
       "                \"position\": \"top\",\n",
       "                \"margin\": 8\n",
       "            }\n",
       "        }\n",
       "    ],\n",
       "    \"legend\": [\n",
       "        {\n",
       "            \"data\": [\n",
       "                \"\\u4e2a\\u4eba\\u623f\\u6e90\",\n",
       "                \"\\u516c\\u5bd3\"\n",
       "            ],\n",
       "            \"selected\": {\n",
       "                \"\\u4e2a\\u4eba\\u623f\\u6e90\": true,\n",
       "                \"\\u516c\\u5bd3\": true\n",
       "            },\n",
       "            \"show\": true,\n",
       "            \"padding\": 5,\n",
       "            \"itemGap\": 10,\n",
       "            \"itemWidth\": 25,\n",
       "            \"itemHeight\": 14\n",
       "        }\n",
       "    ],\n",
       "    \"tooltip\": {\n",
       "        \"show\": true,\n",
       "        \"trigger\": \"item\",\n",
       "        \"triggerOn\": \"mousemove|click\",\n",
       "        \"axisPointer\": {\n",
       "            \"type\": \"line\"\n",
       "        },\n",
       "        \"textStyle\": {\n",
       "            \"fontSize\": 14\n",
       "        },\n",
       "        \"borderWidth\": 0\n",
       "    },\n",
       "    \"xAxis\": [\n",
       "        {\n",
       "            \"show\": true,\n",
       "            \"scale\": false,\n",
       "            \"nameLocation\": \"end\",\n",
       "            \"nameGap\": 15,\n",
       "            \"gridIndex\": 0,\n",
       "            \"inverse\": false,\n",
       "            \"offset\": 0,\n",
       "            \"splitNumber\": 5,\n",
       "            \"minInterval\": 0,\n",
       "            \"splitLine\": {\n",
       "                \"show\": false,\n",
       "                \"lineStyle\": {\n",
       "                    \"show\": true,\n",
       "                    \"width\": 1,\n",
       "                    \"opacity\": 1,\n",
       "                    \"curveness\": 0,\n",
       "                    \"type\": \"solid\"\n",
       "                }\n",
       "            },\n",
       "            \"data\": [\n",
       "                \"\\u4ece\\u5316\",\n",
       "                \"\\u5357\\u6c99\",\n",
       "                \"\\u589e\\u57ce\",\n",
       "                \"\\u5929\\u6cb3\",\n",
       "                \"\\u6d77\\u73e0\",\n",
       "                \"\\u756a\\u79ba\",\n",
       "                \"\\u767d\\u4e91\",\n",
       "                \"\\u82b1\\u90fd\",\n",
       "                \"\\u8354\\u6e7e\",\n",
       "                \"\\u8d8a\\u79c0\",\n",
       "                \"\\u9ec4\\u57d4\"\n",
       "            ]\n",
       "        }\n",
       "    ],\n",
       "    \"yAxis\": [\n",
       "        {\n",
       "            \"show\": true,\n",
       "            \"scale\": false,\n",
       "            \"nameLocation\": \"end\",\n",
       "            \"nameGap\": 15,\n",
       "            \"gridIndex\": 0,\n",
       "            \"inverse\": false,\n",
       "            \"offset\": 0,\n",
       "            \"splitNumber\": 5,\n",
       "            \"minInterval\": 0,\n",
       "            \"splitLine\": {\n",
       "                \"show\": false,\n",
       "                \"lineStyle\": {\n",
       "                    \"show\": true,\n",
       "                    \"width\": 1,\n",
       "                    \"opacity\": 1,\n",
       "                    \"curveness\": 0,\n",
       "                    \"type\": \"solid\"\n",
       "                }\n",
       "            }\n",
       "        }\n",
       "    ],\n",
       "    \"title\": [\n",
       "        {\n",
       "            \"text\": \"\\u5e7f\\u5dde\\u5404\\u5730\\u533a\\u79df\\u623f\\u623f\\u6e90\\u6570\\u91cf\\u7edf\\u8ba1\",\n",
       "            \"padding\": 5,\n",
       "            \"itemGap\": 10\n",
       "        }\n",
       "    ]\n",
       "};\n",
       "                chart_c7219c96843a4321b333f74304eaf6c3.setOption(option_c7219c96843a4321b333f74304eaf6c3);\n",
       "        });\n",
       "    </script>\n"
      ],
      "text/plain": [
       "<pyecharts.render.display.HTML at 0x1924b368808>"
      ]
     },
     "execution_count": 6,
     "metadata": {},
     "output_type": "execute_result"
    }
   ],
   "source": [
    "# 各每平米租金\n",
    "apartment_per_price = df_gz[df_gz['dataDistributionType'] == 1].groupby('district')['per_price'].mean().round(decimals=1)\n",
    "geren_per_price = df_gz.loc[df_gz['dataDistributionType'] == 0].groupby('district')['per_price'].mean().round(decimals=1)\n",
    "df = pd.DataFrame([geren_per_price, apartment_per_price])\n",
    "df = df.T\n",
    "y1 = df.iloc[:, 0].astype(\"float\")\n",
    "y2 = df.iloc[:, 1].astype(\"float\")\n",
    "bar2 = (\n",
    "    Bar()\n",
    "    .add_xaxis(list(df.index))\n",
    "    .add_yaxis('个人房源',list(y1))  #numpy.int32不能显示\n",
    "    .add_yaxis('公寓',list(y2))\n",
    "    .set_global_opts(title_opts=opts.TitleOpts(title=\"广州各地区租房房源数量统计\"))\n",
    ")\n",
    "bar2.render('./Mainapp/data_analysis/html/test3_pie.html')\n"
   ]
  },
  {
   "cell_type": "code",
   "execution_count": 30,
   "metadata": {},
   "outputs": [
    {
     "name": "stdout",
     "output_type": "stream",
     "text": [
      "[['4室1厅2卫', 712.0], ['3室1厅2卫', 713.0], ['4室2厅2卫', 1193.0], ['2室2厅1卫', 1961.0], ['3室1厅1卫', 2285.0], ['3室2厅1卫', 2573.0], ['1室0厅1卫', 3324.0], ['3室2厅2卫', 3424.0], ['1室1厅1卫', 4816.0], ['2室1厅1卫', 5448.0]]\n"
     ]
    },
    {
     "data": {
      "text/plain": [
       "'F:\\\\作业\\\\毕业设计\\\\项目\\\\lianjiaWeb\\\\Mainapp\\\\data_analysis\\\\html\\\\test3_pie.html'"
      ]
     },
     "execution_count": 30,
     "metadata": {},
     "output_type": "execute_result"
    }
   ],
   "source": [
    "# 户型分布\n",
    "from pyecharts.charts import Pie\n",
    "temp = df_gz.groupby('houseType')['price'].count().reset_index()\n",
    "temp.rename(columns={'price': 'counter'}, inplace=True) \n",
    "temp = temp.nlargest(10, 'counter').reset_index()\n",
    "x_data = list(temp['houseType'].values)\n",
    "y_data = list(temp['counter'].values.astype(\"float\"))\n",
    "data_pair = [list(z) for z in zip(x_data, y_data)]\n",
    "data_pair.sort(key=lambda x: x[1])\n",
    "print(data_pair)\n",
    "\n",
    "pie = (\n",
    "    Pie()\n",
    "    .add(\"\", [list(z) for z in zip(x_data, y_data)])\n",
    "    .set_global_opts(title_opts=opts.TitleOpts(title=\"广州户型分布\"))\n",
    "    .set_series_opts(label_opts=opts.LabelOpts(formatter=\"{b}: {c}\"))\n",
    "   \n",
    ")\n",
    "pie.render('./Mainapp/data_analysis/html/test3_pie.html')\n"
   ]
  },
  {
   "cell_type": "code",
   "execution_count": 48,
   "metadata": {},
   "outputs": [
    {
     "data": {
      "text/plain": [
       "'F:\\\\作业\\\\毕业设计\\\\项目\\\\lianjiaWeb\\\\Mainapp\\\\data_analysis\\\\html\\\\orientation_pie.html'"
      ]
     },
     "execution_count": 48,
     "metadata": {},
     "output_type": "execute_result"
    }
   ],
   "source": [
    "# 朝向统计\n",
    "temp = df_gz.dropna(subset=['orientation'])  # 清理数据\n",
    "temp = temp.groupby('orientation')['price'].count().reset_index()\n",
    "temp.rename(columns={'price': 'counter'}, inplace=True) \n",
    "temp = temp.nlargest(6, 'counter').reset_index()\n",
    "x_data = list(temp['orientation'].values)\n",
    "y_data = list(temp['counter'].values.astype(\"float\"))\n",
    "data_pair = [list(z) for z in zip(x_data, y_data)]\n",
    "data_pair.sort(key=lambda x: x[1])\n",
    "pie = (\n",
    "    Pie()\n",
    "    .add(\n",
    "        series_name=\"\",\n",
    "        radius=[\"50%\", \"70%\"],\n",
    "        data_pair=data_pair,\n",
    "        label_opts=opts.LabelOpts(is_show=False, position=\"center\"),\n",
    "    )\n",
    "    .set_global_opts(legend_opts=opts.LegendOpts(pos_left=\"legft\", orient=\"vertical\"))\n",
    "    .set_series_opts(\n",
    "        tooltip_opts=opts.TooltipOpts(\n",
    "            trigger=\"item\", formatter=\"{a} <br/>{b}: {c} ({d}%)\"\n",
    "        ),\n",
    "        label_opts=opts.LabelOpts(formatter=\"{b}:  ({d}%)\")\n",
    "    )\n",
    "    \n",
    ")\n",
    "pie.render('./Mainapp/data_analysis/html/orientation_pie.html')\n"
   ]
  },
  {
   "cell_type": "code",
   "execution_count": 104,
   "metadata": {
    "collapsed": true
   },
   "outputs": [
    {
     "data": {
      "text/plain": [
       "'F:\\\\作业\\\\毕业设计\\\\项目\\\\lianjiaWeb\\\\Mainapp\\\\data_analysis\\\\html\\\\area_group_bar.html'"
      ]
     },
     "execution_count": 104,
     "metadata": {},
     "output_type": "execute_result"
    }
   ],
   "source": [
    "# 租房面积分布\n",
    "bins = [0, 20,  40,  60,  80,  100,  120,  140,  160,  180,  200, 350]\n",
    "temp2 = df_gz.dropna(subset=['area'])  # 清理数据\n",
    "temp2['area_group'] = pd.cut(temp2.area, bins, right=False)  # 面积分组\n",
    "temp2 = temp2.groupby('area_group')['price'].count().reset_index()\n",
    "temp2.rename(columns={'price': 'counter'}, inplace=True) \n",
    "temp2['area_group']\n",
    "bar_area = (\n",
    "    Bar()\n",
    "    .add_xaxis(list(temp2['area_group'].values.astype('str')))\n",
    "    .add_yaxis(\"面积统计\", list(temp2['counter'].values.astype(\"float\")))\n",
    "    .set_global_opts(title_opts=opts.TitleOpts(title=\"Bar-基本示例\", subtitle=\"我是副标题\"))\n",
    "    \n",
    ")\n",
    "bar_area.render('./Mainapp/data_analysis/html/area_group_bar.html')\n",
    "    "
   ]
  },
  {
   "cell_type": "code",
   "execution_count": 122,
   "metadata": {},
   "outputs": [
    {
     "data": {
      "text/plain": [
       "'F:\\\\作业\\\\毕业设计\\\\项目\\\\lianjiaWeb\\\\Mainapp\\\\data_analysis\\\\html\\\\bar_mic_top10.html'"
      ]
     },
     "execution_count": 122,
     "metadata": {},
     "output_type": "execute_result"
    }
   ],
   "source": [
    "# 租金最高的十个商圈\n",
    "temp3 = df_gz.groupby('microdistrict')['per_price'].mean().reset_index()\n",
    "temp3 = temp3.round(1)\n",
    "temp3 = temp3.nlargest(10, 'per_price').reset_index()\n",
    "attr = list(temp3['microdistrict'])\n",
    "value = list(temp3['per_price'])\n",
    "bar_mic_top10 = (\n",
    "    Bar(\n",
    "        init_opts=opts.InitOpts(\n",
    "            width=\"1000px\", \n",
    "            animation_opts=opts.AnimationOpts(\n",
    "                animation_delay=1000, animation_easing=\"elasticOut\"\n",
    "            )\n",
    "        )\n",
    "    )\n",
    "    .add_xaxis(attr)\n",
    "    .add_yaxis(\"\", value)\n",
    "    .set_global_opts(title_opts=opts.TitleOpts(title=\"Bar-动画配置基本示例\", subtitle=\"我是副标题\"))\n",
    ")\n",
    "bar_mic_top10.render('./Mainapp/data_analysis/html/bar_mic_top10.html')\n"
   ]
  },
  {
   "cell_type": "code",
   "execution_count": 145,
   "metadata": {},
   "outputs": [
    {
     "data": {
      "text/plain": [
       "'F:\\\\作业\\\\毕业设计\\\\项目\\\\lianjiaWeb\\\\Mainapp\\\\data_analysis\\\\html\\\\worldCloud.html'"
      ]
     },
     "execution_count": 145,
     "metadata": {},
     "output_type": "execute_result"
    }
   ],
   "source": [
    "# 词云\n",
    "from pyecharts.charts import WordCloud\n",
    "from collections import Counter\n",
    "tags = []\n",
    "temp4 = df_gz.copy()\n",
    "for tag in temp4.dropna(subset=['tags'])['tags']:\n",
    "    tags.extend(tag)\n",
    "for orientation, houseType in zip(temp4['orientation'], temp4['houseType']):\n",
    "    tags.append(orientation)\n",
    "    tags.append(houseType)\n",
    "\n",
    "tag_name = Counter(tags).keys()\n",
    "tag_count = Counter(tags).values()\n",
    "wc = (\n",
    "    WordCloud()\n",
    "    .add(series_name=\"热点分析\", data_pair=[list(z) for z in zip(tag_name, tag_count)], word_size_range=[6, 66])\n",
    "    .set_global_opts(\n",
    "        title_opts=opts.TitleOpts(\n",
    "            title=\"热点分析\", title_textstyle_opts=opts.TextStyleOpts(font_size=23)\n",
    "        ),\n",
    "        tooltip_opts=opts.TooltipOpts(is_show=True),\n",
    "    )\n",
    ")\n",
    "wc.render('./Mainapp/data_analysis/html/worldCloud.html')\n"
   ]
  },
  {
   "cell_type": "code",
   "execution_count": 174,
   "metadata": {},
   "outputs": [
    {
     "data": {
      "text/plain": [
       "'F:\\\\作业\\\\毕业设计\\\\项目\\\\lianjiaWeb\\\\Mainapp\\\\data_analysis\\\\html\\\\bar_wordCount.html'"
      ]
     },
     "execution_count": 174,
     "metadata": {},
     "output_type": "execute_result"
    }
   ],
   "source": [
    "# 标签统计\n",
    "from operator import itemgetter\n",
    "tags2 = []\n",
    "for tag in temp4.dropna(subset=['tags'])['tags']:\n",
    "    tags2.extend(tag)\n",
    "x_data = sorted(Counter(tags2).items(), key=itemgetter(1), reverse=True)\n",
    "y_data = sorted(Counter(tags2).items(), key=itemgetter(1), reverse=True)\n",
    "x_data = list(map(itemgetter(0), x_data))\n",
    "y_data = list(map(itemgetter(1), y_data))\n",
    "bar_wordCount = (\n",
    "    Bar()\n",
    "    .add_xaxis(list(x_data))\n",
    "    .add_yaxis('', list(y_data))  \n",
    "    .set_global_opts(\n",
    "        title_opts=opts.TitleOpts(title=\"标签统计\"),\n",
    "        xaxis_opts=opts.AxisOpts(axislabel_opts=opts.LabelOpts(rotate=-50)),\n",
    "    )\n",
    ")\n",
    "bar_wordCount.render('./Mainapp/data_analysis/html/bar_wordCount.html')\n"
   ]
  },
  {
   "cell_type": "code",
   "execution_count": 71,
   "metadata": {},
   "outputs": [
    {
     "data": {
      "text/plain": [
       "'F:\\\\作业\\\\毕业设计\\\\项目\\\\lianjiaWeb\\\\Mainapp\\\\data_analysis\\\\html\\\\rentType_pie.html'"
      ]
     },
     "execution_count": 71,
     "metadata": {},
     "output_type": "execute_result"
    }
   ],
   "source": [
    "# 租赁类型 饼状图\n",
    "from pyecharts.charts import Pie\n",
    "temp = lianjia_df[lianjia_df['city'] == '广州']\n",
    "apartment_data = df[df['dataDistributionType'] == 1].count()\n",
    "entire_rent_data = df[df['title'].str.contains('整租')].count()\n",
    "joint_rent_data = df[df['title'].str.contains('合租')].count()\n",
    "y_data = [float(apartment_data[0]), float(entire_rent_data[0]), float(joint_rent_data[0])]\n",
    "x_data = ['公寓', '整租', '合租']\n",
    "data_pair = [list(z) for z in zip(x_data, y_data)]\n",
    "pie = (\n",
    "    Pie()\n",
    "    .add(\n",
    "        series_name=\"\",\n",
    "        radius=[\"50%\", \"70%\"],\n",
    "        data_pair=data_pair,\n",
    "        label_opts=opts.LabelOpts(is_show=False, position=\"center\"),\n",
    "    )\n",
    "    .set_global_opts(legend_opts=opts.LegendOpts(pos_left=\"legft\", orient=\"vertical\"))\n",
    "    .set_series_opts(\n",
    "        tooltip_opts=opts.TooltipOpts(\n",
    "            trigger=\"item\", formatter=\"{a} <br/>{b}: {c} ({d}%)\"\n",
    "        ),\n",
    "        label_opts=opts.LabelOpts(formatter=\"{b}:  ({d}%)\")\n",
    "    )\n",
    "    \n",
    ")\n",
    "pie.render('html/rentType_pie.html')"
   ]
  },
  {
   "cell_type": "code",
   "execution_count": null,
   "metadata": {},
   "outputs": [],
   "source": []
  },
  {
   "cell_type": "code",
   "execution_count": null,
   "metadata": {},
   "outputs": [],
   "source": []
  }
 ],
 "metadata": {
  "kernelspec": {
   "display_name": "Python 3",
   "language": "python",
   "name": "python3"
  },
  "language_info": {
   "codemirror_mode": {
    "name": "ipython",
    "version": 3
   },
   "file_extension": ".py",
   "mimetype": "text/x-python",
   "name": "python",
   "nbconvert_exporter": "python",
   "pygments_lexer": "ipython3",
   "version": "3.7.5"
  }
 },
 "nbformat": 4,
 "nbformat_minor": 1
}
